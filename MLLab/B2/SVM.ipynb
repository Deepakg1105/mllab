{
  "nbformat": 4,
  "nbformat_minor": 0,
  "metadata": {
    "colab": {
      "name": "SVM.ipynb",
      "provenance": []
    },
    "kernelspec": {
      "name": "python3",
      "display_name": "Python 3"
    },
    "language_info": {
      "name": "python"
    }
  },
  "cells": [
    {
      "cell_type": "markdown",
      "source": [
        "**2. Use RBF, Polynomial and Sigmoid kernel with SVM and compare the performance of the kernels using suitable multiclass data set.**"
      ],
      "metadata": {
        "id": "Hd9AHA5aRYlT"
      }
    },
    {
      "cell_type": "markdown",
      "source": [
        "**What is Kernel Function?**\n",
        "\n",
        "Kernel Function is used to transform n-dimensional input to m-dimensional input, where m is much higher than n"
      ],
      "metadata": {
        "id": "yqT-x7GbR_p8"
      }
    },
    {
      "cell_type": "markdown",
      "source": [
        "![RBF.png](data:image/png;base64,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)\n",
        "**Why Radial Basis Kernel Is much powerful?**\n",
        "\n",
        "The main motive of the kernel is to do calculations in any d-dimensional space where d > 1, so that we can get a quadratic, cubic or any polynomial equation of large degree for our classification/regression line. Since Radial basis kernel uses exponent and as we know the expansion of e^x gives a polynomial equation of infinite power, so using this kernel, we make our regression/classification line infinitely powerful too."
      ],
      "metadata": {
        "id": "XaDaR5LJSnq1"
      }
    },
    {
      "cell_type": "code",
      "source": [
        "import pandas as pd\n",
        "import numpy as np"
      ],
      "metadata": {
        "id": "GndacmXpR7Ur"
      },
      "execution_count": 1,
      "outputs": []
    },
    {
      "cell_type": "code",
      "source": [
        "df = pd.read_csv('glass.csv')"
      ],
      "metadata": {
        "id": "QMWRaOR4UJi7"
      },
      "execution_count": 2,
      "outputs": []
    },
    {
      "cell_type": "code",
      "source": [
        "df.describe()\n"
      ],
      "metadata": {
        "colab": {
          "base_uri": "https://localhost:8080/",
          "height": 364
        },
        "id": "VRkKF2pfUOpY",
        "outputId": "ccc5593b-a396-461e-a557-aa4542c82462"
      },
      "execution_count": 4,
      "outputs": [
        {
          "output_type": "execute_result",
          "data": {
            "text/html": [
              "\n",
              "  <div id=\"df-19e11fcf-ed1b-484c-87e7-c22004e82990\">\n",
              "    <div class=\"colab-df-container\">\n",
              "      <div>\n",
              "<style scoped>\n",
              "    .dataframe tbody tr th:only-of-type {\n",
              "        vertical-align: middle;\n",
              "    }\n",
              "\n",
              "    .dataframe tbody tr th {\n",
              "        vertical-align: top;\n",
              "    }\n",
              "\n",
              "    .dataframe thead th {\n",
              "        text-align: right;\n",
              "    }\n",
              "</style>\n",
              "<table border=\"1\" class=\"dataframe\">\n",
              "  <thead>\n",
              "    <tr style=\"text-align: right;\">\n",
              "      <th></th>\n",
              "      <th>Id</th>\n",
              "      <th>RI</th>\n",
              "      <th>Na</th>\n",
              "      <th>Mg</th>\n",
              "      <th>Al</th>\n",
              "      <th>Si</th>\n",
              "      <th>K</th>\n",
              "      <th>Ca</th>\n",
              "      <th>Ba</th>\n",
              "      <th>Fe</th>\n",
              "      <th>Type</th>\n",
              "    </tr>\n",
              "  </thead>\n",
              "  <tbody>\n",
              "    <tr>\n",
              "      <th>count</th>\n",
              "      <td>214.000000</td>\n",
              "      <td>214.000000</td>\n",
              "      <td>214.000000</td>\n",
              "      <td>214.000000</td>\n",
              "      <td>214.000000</td>\n",
              "      <td>214.000000</td>\n",
              "      <td>214.000000</td>\n",
              "      <td>214.000000</td>\n",
              "      <td>214.000000</td>\n",
              "      <td>214.000000</td>\n",
              "      <td>214.000000</td>\n",
              "    </tr>\n",
              "    <tr>\n",
              "      <th>mean</th>\n",
              "      <td>107.500000</td>\n",
              "      <td>1.518365</td>\n",
              "      <td>13.407850</td>\n",
              "      <td>2.684533</td>\n",
              "      <td>1.444907</td>\n",
              "      <td>72.650935</td>\n",
              "      <td>0.497056</td>\n",
              "      <td>8.956963</td>\n",
              "      <td>0.175047</td>\n",
              "      <td>0.057009</td>\n",
              "      <td>2.780374</td>\n",
              "    </tr>\n",
              "    <tr>\n",
              "      <th>std</th>\n",
              "      <td>61.920648</td>\n",
              "      <td>0.003037</td>\n",
              "      <td>0.816604</td>\n",
              "      <td>1.442408</td>\n",
              "      <td>0.499270</td>\n",
              "      <td>0.774546</td>\n",
              "      <td>0.652192</td>\n",
              "      <td>1.423153</td>\n",
              "      <td>0.497219</td>\n",
              "      <td>0.097439</td>\n",
              "      <td>2.103739</td>\n",
              "    </tr>\n",
              "    <tr>\n",
              "      <th>min</th>\n",
              "      <td>1.000000</td>\n",
              "      <td>1.511150</td>\n",
              "      <td>10.730000</td>\n",
              "      <td>0.000000</td>\n",
              "      <td>0.290000</td>\n",
              "      <td>69.810000</td>\n",
              "      <td>0.000000</td>\n",
              "      <td>5.430000</td>\n",
              "      <td>0.000000</td>\n",
              "      <td>0.000000</td>\n",
              "      <td>1.000000</td>\n",
              "    </tr>\n",
              "    <tr>\n",
              "      <th>25%</th>\n",
              "      <td>54.250000</td>\n",
              "      <td>1.516522</td>\n",
              "      <td>12.907500</td>\n",
              "      <td>2.115000</td>\n",
              "      <td>1.190000</td>\n",
              "      <td>72.280000</td>\n",
              "      <td>0.122500</td>\n",
              "      <td>8.240000</td>\n",
              "      <td>0.000000</td>\n",
              "      <td>0.000000</td>\n",
              "      <td>1.000000</td>\n",
              "    </tr>\n",
              "    <tr>\n",
              "      <th>50%</th>\n",
              "      <td>107.500000</td>\n",
              "      <td>1.517680</td>\n",
              "      <td>13.300000</td>\n",
              "      <td>3.480000</td>\n",
              "      <td>1.360000</td>\n",
              "      <td>72.790000</td>\n",
              "      <td>0.555000</td>\n",
              "      <td>8.600000</td>\n",
              "      <td>0.000000</td>\n",
              "      <td>0.000000</td>\n",
              "      <td>2.000000</td>\n",
              "    </tr>\n",
              "    <tr>\n",
              "      <th>75%</th>\n",
              "      <td>160.750000</td>\n",
              "      <td>1.519157</td>\n",
              "      <td>13.825000</td>\n",
              "      <td>3.600000</td>\n",
              "      <td>1.630000</td>\n",
              "      <td>73.087500</td>\n",
              "      <td>0.610000</td>\n",
              "      <td>9.172500</td>\n",
              "      <td>0.000000</td>\n",
              "      <td>0.100000</td>\n",
              "      <td>3.000000</td>\n",
              "    </tr>\n",
              "    <tr>\n",
              "      <th>max</th>\n",
              "      <td>214.000000</td>\n",
              "      <td>1.533930</td>\n",
              "      <td>17.380000</td>\n",
              "      <td>4.490000</td>\n",
              "      <td>3.500000</td>\n",
              "      <td>75.410000</td>\n",
              "      <td>6.210000</td>\n",
              "      <td>16.190000</td>\n",
              "      <td>3.150000</td>\n",
              "      <td>0.510000</td>\n",
              "      <td>7.000000</td>\n",
              "    </tr>\n",
              "  </tbody>\n",
              "</table>\n",
              "</div>\n",
              "      <button class=\"colab-df-convert\" onclick=\"convertToInteractive('df-19e11fcf-ed1b-484c-87e7-c22004e82990')\"\n",
              "              title=\"Convert this dataframe to an interactive table.\"\n",
              "              style=\"display:none;\">\n",
              "        \n",
              "  <svg xmlns=\"http://www.w3.org/2000/svg\" height=\"24px\"viewBox=\"0 0 24 24\"\n",
              "       width=\"24px\">\n",
              "    <path d=\"M0 0h24v24H0V0z\" fill=\"none\"/>\n",
              "    <path d=\"M18.56 5.44l.94 2.06.94-2.06 2.06-.94-2.06-.94-.94-2.06-.94 2.06-2.06.94zm-11 1L8.5 8.5l.94-2.06 2.06-.94-2.06-.94L8.5 2.5l-.94 2.06-2.06.94zm10 10l.94 2.06.94-2.06 2.06-.94-2.06-.94-.94-2.06-.94 2.06-2.06.94z\"/><path d=\"M17.41 7.96l-1.37-1.37c-.4-.4-.92-.59-1.43-.59-.52 0-1.04.2-1.43.59L10.3 9.45l-7.72 7.72c-.78.78-.78 2.05 0 2.83L4 21.41c.39.39.9.59 1.41.59.51 0 1.02-.2 1.41-.59l7.78-7.78 2.81-2.81c.8-.78.8-2.07 0-2.86zM5.41 20L4 18.59l7.72-7.72 1.47 1.35L5.41 20z\"/>\n",
              "  </svg>\n",
              "      </button>\n",
              "      \n",
              "  <style>\n",
              "    .colab-df-container {\n",
              "      display:flex;\n",
              "      flex-wrap:wrap;\n",
              "      gap: 12px;\n",
              "    }\n",
              "\n",
              "    .colab-df-convert {\n",
              "      background-color: #E8F0FE;\n",
              "      border: none;\n",
              "      border-radius: 50%;\n",
              "      cursor: pointer;\n",
              "      display: none;\n",
              "      fill: #1967D2;\n",
              "      height: 32px;\n",
              "      padding: 0 0 0 0;\n",
              "      width: 32px;\n",
              "    }\n",
              "\n",
              "    .colab-df-convert:hover {\n",
              "      background-color: #E2EBFA;\n",
              "      box-shadow: 0px 1px 2px rgba(60, 64, 67, 0.3), 0px 1px 3px 1px rgba(60, 64, 67, 0.15);\n",
              "      fill: #174EA6;\n",
              "    }\n",
              "\n",
              "    [theme=dark] .colab-df-convert {\n",
              "      background-color: #3B4455;\n",
              "      fill: #D2E3FC;\n",
              "    }\n",
              "\n",
              "    [theme=dark] .colab-df-convert:hover {\n",
              "      background-color: #434B5C;\n",
              "      box-shadow: 0px 1px 3px 1px rgba(0, 0, 0, 0.15);\n",
              "      filter: drop-shadow(0px 1px 2px rgba(0, 0, 0, 0.3));\n",
              "      fill: #FFFFFF;\n",
              "    }\n",
              "  </style>\n",
              "\n",
              "      <script>\n",
              "        const buttonEl =\n",
              "          document.querySelector('#df-19e11fcf-ed1b-484c-87e7-c22004e82990 button.colab-df-convert');\n",
              "        buttonEl.style.display =\n",
              "          google.colab.kernel.accessAllowed ? 'block' : 'none';\n",
              "\n",
              "        async function convertToInteractive(key) {\n",
              "          const element = document.querySelector('#df-19e11fcf-ed1b-484c-87e7-c22004e82990');\n",
              "          const dataTable =\n",
              "            await google.colab.kernel.invokeFunction('convertToInteractive',\n",
              "                                                     [key], {});\n",
              "          if (!dataTable) return;\n",
              "\n",
              "          const docLinkHtml = 'Like what you see? Visit the ' +\n",
              "            '<a target=\"_blank\" href=https://colab.research.google.com/notebooks/data_table.ipynb>data table notebook</a>'\n",
              "            + ' to learn more about interactive tables.';\n",
              "          element.innerHTML = '';\n",
              "          dataTable['output_type'] = 'display_data';\n",
              "          await google.colab.output.renderOutput(dataTable, element);\n",
              "          const docLink = document.createElement('div');\n",
              "          docLink.innerHTML = docLinkHtml;\n",
              "          element.appendChild(docLink);\n",
              "        }\n",
              "      </script>\n",
              "    </div>\n",
              "  </div>\n",
              "  "
            ],
            "text/plain": [
              "               Id          RI          Na  ...          Ba          Fe        Type\n",
              "count  214.000000  214.000000  214.000000  ...  214.000000  214.000000  214.000000\n",
              "mean   107.500000    1.518365   13.407850  ...    0.175047    0.057009    2.780374\n",
              "std     61.920648    0.003037    0.816604  ...    0.497219    0.097439    2.103739\n",
              "min      1.000000    1.511150   10.730000  ...    0.000000    0.000000    1.000000\n",
              "25%     54.250000    1.516522   12.907500  ...    0.000000    0.000000    1.000000\n",
              "50%    107.500000    1.517680   13.300000  ...    0.000000    0.000000    2.000000\n",
              "75%    160.750000    1.519157   13.825000  ...    0.000000    0.100000    3.000000\n",
              "max    214.000000    1.533930   17.380000  ...    3.150000    0.510000    7.000000\n",
              "\n",
              "[8 rows x 11 columns]"
            ]
          },
          "metadata": {},
          "execution_count": 4
        }
      ]
    },
    {
      "cell_type": "code",
      "source": [
        "df.head()"
      ],
      "metadata": {
        "colab": {
          "base_uri": "https://localhost:8080/",
          "height": 206
        },
        "id": "ngG3GKEWUQkp",
        "outputId": "a620c024-f101-4156-9917-eb68438ca99d"
      },
      "execution_count": 5,
      "outputs": [
        {
          "output_type": "execute_result",
          "data": {
            "text/html": [
              "\n",
              "  <div id=\"df-076e19e3-779c-457b-930c-325307e85b21\">\n",
              "    <div class=\"colab-df-container\">\n",
              "      <div>\n",
              "<style scoped>\n",
              "    .dataframe tbody tr th:only-of-type {\n",
              "        vertical-align: middle;\n",
              "    }\n",
              "\n",
              "    .dataframe tbody tr th {\n",
              "        vertical-align: top;\n",
              "    }\n",
              "\n",
              "    .dataframe thead th {\n",
              "        text-align: right;\n",
              "    }\n",
              "</style>\n",
              "<table border=\"1\" class=\"dataframe\">\n",
              "  <thead>\n",
              "    <tr style=\"text-align: right;\">\n",
              "      <th></th>\n",
              "      <th>Id</th>\n",
              "      <th>RI</th>\n",
              "      <th>Na</th>\n",
              "      <th>Mg</th>\n",
              "      <th>Al</th>\n",
              "      <th>Si</th>\n",
              "      <th>K</th>\n",
              "      <th>Ca</th>\n",
              "      <th>Ba</th>\n",
              "      <th>Fe</th>\n",
              "      <th>Type</th>\n",
              "    </tr>\n",
              "  </thead>\n",
              "  <tbody>\n",
              "    <tr>\n",
              "      <th>0</th>\n",
              "      <td>1</td>\n",
              "      <td>1.52101</td>\n",
              "      <td>13.64</td>\n",
              "      <td>4.49</td>\n",
              "      <td>1.10</td>\n",
              "      <td>71.78</td>\n",
              "      <td>0.06</td>\n",
              "      <td>8.75</td>\n",
              "      <td>0.0</td>\n",
              "      <td>0.0</td>\n",
              "      <td>1</td>\n",
              "    </tr>\n",
              "    <tr>\n",
              "      <th>1</th>\n",
              "      <td>2</td>\n",
              "      <td>1.51761</td>\n",
              "      <td>13.89</td>\n",
              "      <td>3.60</td>\n",
              "      <td>1.36</td>\n",
              "      <td>72.73</td>\n",
              "      <td>0.48</td>\n",
              "      <td>7.83</td>\n",
              "      <td>0.0</td>\n",
              "      <td>0.0</td>\n",
              "      <td>1</td>\n",
              "    </tr>\n",
              "    <tr>\n",
              "      <th>2</th>\n",
              "      <td>3</td>\n",
              "      <td>1.51618</td>\n",
              "      <td>13.53</td>\n",
              "      <td>3.55</td>\n",
              "      <td>1.54</td>\n",
              "      <td>72.99</td>\n",
              "      <td>0.39</td>\n",
              "      <td>7.78</td>\n",
              "      <td>0.0</td>\n",
              "      <td>0.0</td>\n",
              "      <td>1</td>\n",
              "    </tr>\n",
              "    <tr>\n",
              "      <th>3</th>\n",
              "      <td>4</td>\n",
              "      <td>1.51766</td>\n",
              "      <td>13.21</td>\n",
              "      <td>3.69</td>\n",
              "      <td>1.29</td>\n",
              "      <td>72.61</td>\n",
              "      <td>0.57</td>\n",
              "      <td>8.22</td>\n",
              "      <td>0.0</td>\n",
              "      <td>0.0</td>\n",
              "      <td>1</td>\n",
              "    </tr>\n",
              "    <tr>\n",
              "      <th>4</th>\n",
              "      <td>5</td>\n",
              "      <td>1.51742</td>\n",
              "      <td>13.27</td>\n",
              "      <td>3.62</td>\n",
              "      <td>1.24</td>\n",
              "      <td>73.08</td>\n",
              "      <td>0.55</td>\n",
              "      <td>8.07</td>\n",
              "      <td>0.0</td>\n",
              "      <td>0.0</td>\n",
              "      <td>1</td>\n",
              "    </tr>\n",
              "  </tbody>\n",
              "</table>\n",
              "</div>\n",
              "      <button class=\"colab-df-convert\" onclick=\"convertToInteractive('df-076e19e3-779c-457b-930c-325307e85b21')\"\n",
              "              title=\"Convert this dataframe to an interactive table.\"\n",
              "              style=\"display:none;\">\n",
              "        \n",
              "  <svg xmlns=\"http://www.w3.org/2000/svg\" height=\"24px\"viewBox=\"0 0 24 24\"\n",
              "       width=\"24px\">\n",
              "    <path d=\"M0 0h24v24H0V0z\" fill=\"none\"/>\n",
              "    <path d=\"M18.56 5.44l.94 2.06.94-2.06 2.06-.94-2.06-.94-.94-2.06-.94 2.06-2.06.94zm-11 1L8.5 8.5l.94-2.06 2.06-.94-2.06-.94L8.5 2.5l-.94 2.06-2.06.94zm10 10l.94 2.06.94-2.06 2.06-.94-2.06-.94-.94-2.06-.94 2.06-2.06.94z\"/><path d=\"M17.41 7.96l-1.37-1.37c-.4-.4-.92-.59-1.43-.59-.52 0-1.04.2-1.43.59L10.3 9.45l-7.72 7.72c-.78.78-.78 2.05 0 2.83L4 21.41c.39.39.9.59 1.41.59.51 0 1.02-.2 1.41-.59l7.78-7.78 2.81-2.81c.8-.78.8-2.07 0-2.86zM5.41 20L4 18.59l7.72-7.72 1.47 1.35L5.41 20z\"/>\n",
              "  </svg>\n",
              "      </button>\n",
              "      \n",
              "  <style>\n",
              "    .colab-df-container {\n",
              "      display:flex;\n",
              "      flex-wrap:wrap;\n",
              "      gap: 12px;\n",
              "    }\n",
              "\n",
              "    .colab-df-convert {\n",
              "      background-color: #E8F0FE;\n",
              "      border: none;\n",
              "      border-radius: 50%;\n",
              "      cursor: pointer;\n",
              "      display: none;\n",
              "      fill: #1967D2;\n",
              "      height: 32px;\n",
              "      padding: 0 0 0 0;\n",
              "      width: 32px;\n",
              "    }\n",
              "\n",
              "    .colab-df-convert:hover {\n",
              "      background-color: #E2EBFA;\n",
              "      box-shadow: 0px 1px 2px rgba(60, 64, 67, 0.3), 0px 1px 3px 1px rgba(60, 64, 67, 0.15);\n",
              "      fill: #174EA6;\n",
              "    }\n",
              "\n",
              "    [theme=dark] .colab-df-convert {\n",
              "      background-color: #3B4455;\n",
              "      fill: #D2E3FC;\n",
              "    }\n",
              "\n",
              "    [theme=dark] .colab-df-convert:hover {\n",
              "      background-color: #434B5C;\n",
              "      box-shadow: 0px 1px 3px 1px rgba(0, 0, 0, 0.15);\n",
              "      filter: drop-shadow(0px 1px 2px rgba(0, 0, 0, 0.3));\n",
              "      fill: #FFFFFF;\n",
              "    }\n",
              "  </style>\n",
              "\n",
              "      <script>\n",
              "        const buttonEl =\n",
              "          document.querySelector('#df-076e19e3-779c-457b-930c-325307e85b21 button.colab-df-convert');\n",
              "        buttonEl.style.display =\n",
              "          google.colab.kernel.accessAllowed ? 'block' : 'none';\n",
              "\n",
              "        async function convertToInteractive(key) {\n",
              "          const element = document.querySelector('#df-076e19e3-779c-457b-930c-325307e85b21');\n",
              "          const dataTable =\n",
              "            await google.colab.kernel.invokeFunction('convertToInteractive',\n",
              "                                                     [key], {});\n",
              "          if (!dataTable) return;\n",
              "\n",
              "          const docLinkHtml = 'Like what you see? Visit the ' +\n",
              "            '<a target=\"_blank\" href=https://colab.research.google.com/notebooks/data_table.ipynb>data table notebook</a>'\n",
              "            + ' to learn more about interactive tables.';\n",
              "          element.innerHTML = '';\n",
              "          dataTable['output_type'] = 'display_data';\n",
              "          await google.colab.output.renderOutput(dataTable, element);\n",
              "          const docLink = document.createElement('div');\n",
              "          docLink.innerHTML = docLinkHtml;\n",
              "          element.appendChild(docLink);\n",
              "        }\n",
              "      </script>\n",
              "    </div>\n",
              "  </div>\n",
              "  "
            ],
            "text/plain": [
              "   Id       RI     Na    Mg    Al    Si      K    Ca   Ba   Fe  Type\n",
              "0   1  1.52101  13.64  4.49  1.10  71.78  0.06  8.75  0.0  0.0     1\n",
              "1   2  1.51761  13.89  3.60  1.36  72.73  0.48  7.83  0.0  0.0     1\n",
              "2   3  1.51618  13.53  3.55  1.54  72.99  0.39  7.78  0.0  0.0     1\n",
              "3   4  1.51766  13.21  3.69  1.29  72.61  0.57  8.22  0.0  0.0     1\n",
              "4   5  1.51742  13.27  3.62  1.24  73.08  0.55  8.07  0.0  0.0     1"
            ]
          },
          "metadata": {},
          "execution_count": 5
        }
      ]
    },
    {
      "cell_type": "code",
      "source": [
        "X = df.drop(['Type'],axis=1)"
      ],
      "metadata": {
        "id": "1GY4gUQPUjaE"
      },
      "execution_count": 9,
      "outputs": []
    },
    {
      "cell_type": "code",
      "source": [
        "Y = df['Type']"
      ],
      "metadata": {
        "id": "ei7y83rbUzt6"
      },
      "execution_count": 11,
      "outputs": []
    },
    {
      "cell_type": "code",
      "source": [
        "print(Y)"
      ],
      "metadata": {
        "colab": {
          "base_uri": "https://localhost:8080/"
        },
        "id": "_V8icPc4VXEm",
        "outputId": "36b1256a-e1c4-4a50-bde0-ee1fc8863b9f"
      },
      "execution_count": 13,
      "outputs": [
        {
          "output_type": "stream",
          "name": "stdout",
          "text": [
            "0      1\n",
            "1      1\n",
            "2      1\n",
            "3      1\n",
            "4      1\n",
            "      ..\n",
            "209    7\n",
            "210    7\n",
            "211    7\n",
            "212    7\n",
            "213    7\n",
            "Name: Type, Length: 214, dtype: int64\n"
          ]
        }
      ]
    },
    {
      "cell_type": "code",
      "source": [
        "from sklearn.model_selection import train_test_split"
      ],
      "metadata": {
        "id": "BAoEemKyVcJZ"
      },
      "execution_count": 14,
      "outputs": []
    },
    {
      "cell_type": "code",
      "source": [
        "X_train, X_test, Y_train, Y_test = train_test_split(X,Y, test_size=0.2, random_state = 100)"
      ],
      "metadata": {
        "id": "AkhYCNBCVt_a"
      },
      "execution_count": 15,
      "outputs": []
    },
    {
      "cell_type": "code",
      "source": [
        "from sklearn import svm\n",
        "from sklearn.svm import SVC"
      ],
      "metadata": {
        "id": "jbDD6FTwWEfT"
      },
      "execution_count": 20,
      "outputs": []
    },
    {
      "cell_type": "code",
      "source": [
        "model1 = SVC(kernel='rbf')\n",
        "model2 = SVC(kernel = 'poly')\n",
        "model3 = SVC(kernel = 'sigmoid')"
      ],
      "metadata": {
        "id": "54jl4aftWa_q"
      },
      "execution_count": 22,
      "outputs": []
    },
    {
      "cell_type": "code",
      "source": [
        "model1.fit(X_train, Y_train)"
      ],
      "metadata": {
        "colab": {
          "base_uri": "https://localhost:8080/"
        },
        "id": "LKKWTOHrXS6M",
        "outputId": "fa6371e5-efce-470d-9eae-27cbf6b0a25a"
      },
      "execution_count": 23,
      "outputs": [
        {
          "output_type": "execute_result",
          "data": {
            "text/plain": [
              "SVC()"
            ]
          },
          "metadata": {},
          "execution_count": 23
        }
      ]
    },
    {
      "cell_type": "code",
      "source": [
        "model2.fit(X_train,Y_train)"
      ],
      "metadata": {
        "colab": {
          "base_uri": "https://localhost:8080/"
        },
        "id": "DWDCR3M8Xbvk",
        "outputId": "b67499aa-6e68-46fc-b4f3-e25ad4fb9fc4"
      },
      "execution_count": 24,
      "outputs": [
        {
          "output_type": "execute_result",
          "data": {
            "text/plain": [
              "SVC(kernel='poly')"
            ]
          },
          "metadata": {},
          "execution_count": 24
        }
      ]
    },
    {
      "cell_type": "code",
      "source": [
        "model3.fit(X_train, Y_train)"
      ],
      "metadata": {
        "colab": {
          "base_uri": "https://localhost:8080/"
        },
        "id": "hF6Ymf21Xh5A",
        "outputId": "40558124-2813-4502-e45c-34cc7437451f"
      },
      "execution_count": 32,
      "outputs": [
        {
          "output_type": "execute_result",
          "data": {
            "text/plain": [
              "SVC(kernel='sigmoid')"
            ]
          },
          "metadata": {},
          "execution_count": 32
        }
      ]
    },
    {
      "cell_type": "code",
      "source": [
        "Y_pred1 = model1.predict(X_test)\n",
        "print(Y_pred1)\n"
      ],
      "metadata": {
        "colab": {
          "base_uri": "https://localhost:8080/"
        },
        "id": "C5xToy3NXn1b",
        "outputId": "ab66b672-34d0-4e56-ec89-3bac5e457dc2"
      },
      "execution_count": 34,
      "outputs": [
        {
          "output_type": "stream",
          "name": "stdout",
          "text": [
            "[2 3 2 2 2 2 2 1 7 2 2 3 7 2 2 1 3 1 1 2 3 7 2 7 2 1 7 1 2 1 2 2 1 1 3 7 2\n",
            " 2 2 2 2 3 1]\n"
          ]
        }
      ]
    },
    {
      "cell_type": "code",
      "source": [
        "Y_pred2 = model2.predict(X_test)\n",
        "print(Y_pred2)"
      ],
      "metadata": {
        "colab": {
          "base_uri": "https://localhost:8080/"
        },
        "id": "fh5QUCrZXwKl",
        "outputId": "36c77ce8-d605-45d7-8a91-74ebc13d8787"
      },
      "execution_count": 35,
      "outputs": [
        {
          "output_type": "stream",
          "name": "stdout",
          "text": [
            "[2 3 3 2 2 2 2 1 6 2 2 5 7 2 2 1 5 1 1 2 5 7 2 7 2 1 7 1 2 1 2 2 1 1 3 7 3\n",
            " 2 2 2 3 5 1]\n"
          ]
        }
      ]
    },
    {
      "cell_type": "code",
      "source": [
        "Y_pred3 = model3.predict(X_test)\n",
        "print(Y_pred3)"
      ],
      "metadata": {
        "colab": {
          "base_uri": "https://localhost:8080/"
        },
        "id": "XAKe_iLbYmlT",
        "outputId": "3eb5fafa-3066-4c16-d413-d2fbf8120fec"
      },
      "execution_count": 36,
      "outputs": [
        {
          "output_type": "stream",
          "name": "stdout",
          "text": [
            "[2 2 2 2 2 2 2 2 2 2 2 2 2 2 2 1 2 1 2 2 2 2 2 2 2 2 2 1 2 1 2 2 1 1 2 2 2\n",
            " 2 2 2 2 2 1]\n"
          ]
        }
      ]
    },
    {
      "cell_type": "code",
      "source": [
        "from sklearn.metrics import accuracy_score, classification_report"
      ],
      "metadata": {
        "id": "xRUXQlQ0YxE0"
      },
      "execution_count": 37,
      "outputs": []
    },
    {
      "cell_type": "code",
      "source": [
        "accuracy_score(Y_test, Y_pred1)"
      ],
      "metadata": {
        "colab": {
          "base_uri": "https://localhost:8080/"
        },
        "id": "MaLqMggTZCa_",
        "outputId": "78d6c6c3-388e-42b8-d07e-2096e34020fb"
      },
      "execution_count": 38,
      "outputs": [
        {
          "output_type": "execute_result",
          "data": {
            "text/plain": [
              "0.813953488372093"
            ]
          },
          "metadata": {},
          "execution_count": 38
        }
      ]
    },
    {
      "cell_type": "code",
      "source": [
        "accuracy_score(Y_test, Y_pred2)"
      ],
      "metadata": {
        "colab": {
          "base_uri": "https://localhost:8080/"
        },
        "id": "9ubziaAyZLXk",
        "outputId": "2d54413d-9d5a-4d23-8f50-7901c042f0d7"
      },
      "execution_count": 39,
      "outputs": [
        {
          "output_type": "execute_result",
          "data": {
            "text/plain": [
              "0.9534883720930233"
            ]
          },
          "metadata": {},
          "execution_count": 39
        }
      ]
    },
    {
      "cell_type": "code",
      "source": [
        "accuracy_score(Y_test, Y_pred3)"
      ],
      "metadata": {
        "colab": {
          "base_uri": "https://localhost:8080/"
        },
        "id": "ai1gJAGPZOKq",
        "outputId": "ddd90921-22fc-4f67-c797-38ec7b9b44b1"
      },
      "execution_count": 40,
      "outputs": [
        {
          "output_type": "execute_result",
          "data": {
            "text/plain": [
              "0.6046511627906976"
            ]
          },
          "metadata": {},
          "execution_count": 40
        }
      ]
    },
    {
      "cell_type": "code",
      "source": [
        "print(classification_report(Y_test,Y_pred1))"
      ],
      "metadata": {
        "colab": {
          "base_uri": "https://localhost:8080/"
        },
        "id": "c7kg7XVhZO5m",
        "outputId": "62413292-acde-4c64-ea7b-2c66131b3bb3"
      },
      "execution_count": 42,
      "outputs": [
        {
          "output_type": "stream",
          "name": "stdout",
          "text": [
            "              precision    recall  f1-score   support\n",
            "\n",
            "           1       1.00      1.00      1.00        10\n",
            "           2       0.90      1.00      0.95        19\n",
            "           3       0.17      0.33      0.22         3\n",
            "           5       0.00      0.00      0.00         5\n",
            "           6       0.00      0.00      0.00         1\n",
            "           7       0.83      1.00      0.91         5\n",
            "\n",
            "    accuracy                           0.81        43\n",
            "   macro avg       0.48      0.56      0.51        43\n",
            "weighted avg       0.74      0.81      0.77        43\n",
            "\n"
          ]
        },
        {
          "output_type": "stream",
          "name": "stderr",
          "text": [
            "/usr/local/lib/python3.7/dist-packages/sklearn/metrics/_classification.py:1318: UndefinedMetricWarning: Precision and F-score are ill-defined and being set to 0.0 in labels with no predicted samples. Use `zero_division` parameter to control this behavior.\n",
            "  _warn_prf(average, modifier, msg_start, len(result))\n",
            "/usr/local/lib/python3.7/dist-packages/sklearn/metrics/_classification.py:1318: UndefinedMetricWarning: Precision and F-score are ill-defined and being set to 0.0 in labels with no predicted samples. Use `zero_division` parameter to control this behavior.\n",
            "  _warn_prf(average, modifier, msg_start, len(result))\n",
            "/usr/local/lib/python3.7/dist-packages/sklearn/metrics/_classification.py:1318: UndefinedMetricWarning: Precision and F-score are ill-defined and being set to 0.0 in labels with no predicted samples. Use `zero_division` parameter to control this behavior.\n",
            "  _warn_prf(average, modifier, msg_start, len(result))\n"
          ]
        }
      ]
    },
    {
      "cell_type": "code",
      "source": [
        "print(classification_report(Y_test, Y_pred2))"
      ],
      "metadata": {
        "colab": {
          "base_uri": "https://localhost:8080/"
        },
        "id": "QTeya3ohZgbr",
        "outputId": "0df9c5aa-1e08-4f47-cf4d-0ac6e9072de5"
      },
      "execution_count": 43,
      "outputs": [
        {
          "output_type": "stream",
          "name": "stdout",
          "text": [
            "              precision    recall  f1-score   support\n",
            "\n",
            "           1       1.00      1.00      1.00        10\n",
            "           2       1.00      0.95      0.97        19\n",
            "           3       0.60      1.00      0.75         3\n",
            "           5       1.00      0.80      0.89         5\n",
            "           6       1.00      1.00      1.00         1\n",
            "           7       1.00      1.00      1.00         5\n",
            "\n",
            "    accuracy                           0.95        43\n",
            "   macro avg       0.93      0.96      0.94        43\n",
            "weighted avg       0.97      0.95      0.96        43\n",
            "\n"
          ]
        }
      ]
    },
    {
      "cell_type": "code",
      "source": [
        "print(classification_report(Y_test, Y_pred3))"
      ],
      "metadata": {
        "colab": {
          "base_uri": "https://localhost:8080/"
        },
        "id": "6ARRTcV2ZtbU",
        "outputId": "92c56dd4-43be-470d-adb5-0498c33da23d"
      },
      "execution_count": 44,
      "outputs": [
        {
          "output_type": "stream",
          "name": "stdout",
          "text": [
            "              precision    recall  f1-score   support\n",
            "\n",
            "           1       1.00      0.70      0.82        10\n",
            "           2       0.53      1.00      0.69        19\n",
            "           3       0.00      0.00      0.00         3\n",
            "           5       0.00      0.00      0.00         5\n",
            "           6       0.00      0.00      0.00         1\n",
            "           7       0.00      0.00      0.00         5\n",
            "\n",
            "    accuracy                           0.60        43\n",
            "   macro avg       0.25      0.28      0.25        43\n",
            "weighted avg       0.47      0.60      0.50        43\n",
            "\n"
          ]
        },
        {
          "output_type": "stream",
          "name": "stderr",
          "text": [
            "/usr/local/lib/python3.7/dist-packages/sklearn/metrics/_classification.py:1318: UndefinedMetricWarning: Precision and F-score are ill-defined and being set to 0.0 in labels with no predicted samples. Use `zero_division` parameter to control this behavior.\n",
            "  _warn_prf(average, modifier, msg_start, len(result))\n",
            "/usr/local/lib/python3.7/dist-packages/sklearn/metrics/_classification.py:1318: UndefinedMetricWarning: Precision and F-score are ill-defined and being set to 0.0 in labels with no predicted samples. Use `zero_division` parameter to control this behavior.\n",
            "  _warn_prf(average, modifier, msg_start, len(result))\n",
            "/usr/local/lib/python3.7/dist-packages/sklearn/metrics/_classification.py:1318: UndefinedMetricWarning: Precision and F-score are ill-defined and being set to 0.0 in labels with no predicted samples. Use `zero_division` parameter to control this behavior.\n",
            "  _warn_prf(average, modifier, msg_start, len(result))\n"
          ]
        }
      ]
    },
    {
      "cell_type": "code",
      "source": [
        ""
      ],
      "metadata": {
        "id": "a-kxWYxwdeuC"
      },
      "execution_count": null,
      "outputs": []
    },
    {
      "cell_type": "code",
      "source": [
        ""
      ],
      "metadata": {
        "id": "xxiPVXEWdfTK"
      },
      "execution_count": null,
      "outputs": []
    },
    {
      "cell_type": "code",
      "source": [
        "import plotly.express as px"
      ],
      "metadata": {
        "id": "D5LoRA-LZu5w"
      },
      "execution_count": 45,
      "outputs": []
    },
    {
      "cell_type": "code",
      "source": [
        "fig1 = px.scatter_3d(df, x='Na', y='Mg', z='Type', color='Type')"
      ],
      "metadata": {
        "id": "-dwlftaIZ7xH"
      },
      "execution_count": 56,
      "outputs": []
    },
    {
      "cell_type": "code",
      "source": [
        "fig1.show()"
      ],
      "metadata": {
        "colab": {
          "base_uri": "https://localhost:8080/",
          "height": 542
        },
        "id": "VCyPJWSUaH_Z",
        "outputId": "3d98e500-ffc1-4e21-c5a1-0a9b7c2c4a5d"
      },
      "execution_count": 57,
      "outputs": [
        {
          "output_type": "display_data",
          "data": {
            "text/html": [
              "<html>\n",
              "<head><meta charset=\"utf-8\" /></head>\n",
              "<body>\n",
              "    <div>            <script src=\"https://cdnjs.cloudflare.com/ajax/libs/mathjax/2.7.5/MathJax.js?config=TeX-AMS-MML_SVG\"></script><script type=\"text/javascript\">if (window.MathJax) {MathJax.Hub.Config({SVG: {font: \"STIX-Web\"}});}</script>                <script type=\"text/javascript\">window.PlotlyConfig = {MathJaxConfig: 'local'};</script>\n",
              "        <script src=\"https://cdn.plot.ly/plotly-2.8.3.min.js\"></script>                <div id=\"91953f36-c74f-4020-9d79-5200efbd4b34\" class=\"plotly-graph-div\" style=\"height:525px; width:100%;\"></div>            <script type=\"text/javascript\">                                    window.PLOTLYENV=window.PLOTLYENV || {};                                    if (document.getElementById(\"91953f36-c74f-4020-9d79-5200efbd4b34\")) {                    Plotly.newPlot(                        \"91953f36-c74f-4020-9d79-5200efbd4b34\",                        [{\"hovertemplate\":\"Na=%{x}<br>Mg=%{y}<br>Type=%{marker.color}<extra></extra>\",\"legendgroup\":\"\",\"marker\":{\"color\":[1,1,1,1,1,1,1,1,1,1,1,1,1,1,1,1,1,1,1,1,1,1,1,1,1,1,1,1,1,1,1,1,1,1,1,1,1,1,1,1,1,1,1,1,1,1,1,1,1,1,1,1,1,1,1,1,1,1,1,1,1,1,1,1,1,1,1,1,1,1,2,2,2,2,2,2,2,2,2,2,2,2,2,2,2,2,2,2,2,2,2,2,2,2,2,2,2,2,2,2,2,2,2,2,2,2,2,2,2,2,2,2,2,2,2,2,2,2,2,2,2,2,2,2,2,2,2,2,2,2,2,2,2,2,2,2,2,2,2,2,2,2,2,2,2,2,3,3,3,3,3,3,3,3,3,3,3,3,3,3,3,3,3,5,5,5,5,5,5,5,5,5,5,5,5,5,6,6,6,6,6,6,6,6,6,7,7,7,7,7,7,7,7,7,7,7,7,7,7,7,7,7,7,7,7,7,7,7,7,7,7,7,7,7],\"coloraxis\":\"coloraxis\",\"symbol\":\"circle\"},\"mode\":\"markers\",\"name\":\"\",\"scene\":\"scene\",\"showlegend\":false,\"x\":[13.64,13.89,13.53,13.21,13.27,12.79,13.3,13.15,14.04,13.0,12.72,12.8,12.88,12.86,12.61,12.81,12.68,14.36,13.9,13.02,12.82,14.77,12.78,12.81,13.38,12.98,13.21,12.87,12.56,13.08,12.65,12.84,12.85,12.57,12.69,13.29,13.89,12.74,14.21,14.21,12.79,12.71,13.21,13.73,12.73,13.49,13.19,13.99,13.21,13.58,13.72,13.2,13.43,13.14,13.21,12.45,12.99,12.87,13.48,13.39,13.6,13.81,13.51,14.17,13.48,13.69,13.05,13.05,13.12,13.31,14.86,13.64,13.09,13.34,13.02,13.02,13.44,13.0,13.92,12.82,12.86,13.25,13.41,13.09,14.25,13.36,13.24,13.4,13.01,12.55,12.93,12.9,13.12,13.24,12.71,13.36,13.02,12.2,12.67,12.96,12.75,12.35,12.62,13.8,13.83,11.45,10.73,12.3,14.43,13.72,11.23,11.02,12.64,13.46,13.1,13.41,13.24,13.72,13.3,13.56,13.25,12.93,13.23,13.48,13.2,12.93,12.94,13.78,13.55,13.98,13.75,13.7,13.43,13.71,13.33,13.19,13.0,12.89,12.79,12.87,13.33,13.2,12.85,13.0,12.99,12.85,13.65,13.33,13.24,12.16,13.14,14.32,13.64,13.42,12.86,13.04,13.41,14.03,13.53,13.5,13.33,13.64,14.19,14.01,12.73,11.56,11.03,12.64,12.86,13.27,13.44,13.02,13.0,13.38,12.85,12.97,14.0,13.79,14.46,14.09,14.4,14.99,14.15,14.56,17.38,13.69,14.32,13.44,14.86,15.79,13.88,14.85,14.2,14.75,14.56,14.14,13.87,14.7,14.38,15.01,15.15,11.95,14.85,14.8,14.95,14.95,14.94,14.39,14.37,14.14,14.92,14.36,14.38,14.23],\"y\":[4.49,3.6,3.55,3.69,3.62,3.61,3.6,3.61,3.58,3.6,3.46,3.66,3.43,3.56,3.59,3.54,3.67,3.85,3.73,3.54,3.55,3.75,3.62,3.57,3.5,3.54,3.48,3.48,3.52,3.49,3.56,3.5,3.48,3.47,3.54,3.45,3.53,3.48,3.82,3.82,3.5,3.42,3.39,3.84,3.43,3.48,3.37,3.7,3.77,3.35,3.72,3.33,2.87,2.84,2.81,2.71,3.47,3.48,3.74,3.66,3.62,3.58,3.86,3.81,3.74,3.59,3.65,3.65,3.58,3.58,3.67,3.87,3.59,3.57,3.56,3.58,3.61,3.58,3.52,3.52,3.52,3.45,3.55,3.52,3.09,3.58,3.49,3.49,3.5,3.48,3.74,3.44,3.41,3.34,3.33,3.43,3.62,3.25,2.88,2.96,2.85,2.72,2.76,3.15,2.9,0.0,0.0,0.0,0.0,0.0,0.0,0.0,0.0,3.83,3.97,3.89,3.9,3.68,3.64,3.57,3.76,3.54,3.54,3.48,3.68,3.66,3.61,2.28,2.09,1.35,1.01,0.0,3.98,3.93,3.85,3.9,3.8,3.62,3.52,3.56,3.54,3.63,3.51,3.47,3.18,3.67,3.66,3.53,3.57,3.52,3.45,3.9,3.65,3.4,3.58,3.4,3.39,3.76,3.41,3.36,3.34,3.54,3.78,2.68,1.85,1.88,1.71,0.0,0.0,0.0,0.0,0.0,0.0,0.0,1.61,0.33,2.39,2.41,2.24,2.19,1.74,0.78,0.0,0.0,0.0,3.2,3.26,3.34,2.2,1.83,1.78,0.0,0.0,0.0,0.0,0.0,0.0,0.0,0.0,0.0,0.0,0.0,0.0,0.0,0.0,0.0,0.0,0.0,0.0,0.0,0.0,0.0,0.0,0.0],\"z\":[1,1,1,1,1,1,1,1,1,1,1,1,1,1,1,1,1,1,1,1,1,1,1,1,1,1,1,1,1,1,1,1,1,1,1,1,1,1,1,1,1,1,1,1,1,1,1,1,1,1,1,1,1,1,1,1,1,1,1,1,1,1,1,1,1,1,1,1,1,1,2,2,2,2,2,2,2,2,2,2,2,2,2,2,2,2,2,2,2,2,2,2,2,2,2,2,2,2,2,2,2,2,2,2,2,2,2,2,2,2,2,2,2,2,2,2,2,2,2,2,2,2,2,2,2,2,2,2,2,2,2,2,2,2,2,2,2,2,2,2,2,2,2,2,2,2,3,3,3,3,3,3,3,3,3,3,3,3,3,3,3,3,3,5,5,5,5,5,5,5,5,5,5,5,5,5,6,6,6,6,6,6,6,6,6,7,7,7,7,7,7,7,7,7,7,7,7,7,7,7,7,7,7,7,7,7,7,7,7,7,7,7,7,7],\"type\":\"scatter3d\"}],                        {\"template\":{\"data\":{\"bar\":[{\"error_x\":{\"color\":\"#2a3f5f\"},\"error_y\":{\"color\":\"#2a3f5f\"},\"marker\":{\"line\":{\"color\":\"#E5ECF6\",\"width\":0.5},\"pattern\":{\"fillmode\":\"overlay\",\"size\":10,\"solidity\":0.2}},\"type\":\"bar\"}],\"barpolar\":[{\"marker\":{\"line\":{\"color\":\"#E5ECF6\",\"width\":0.5},\"pattern\":{\"fillmode\":\"overlay\",\"size\":10,\"solidity\":0.2}},\"type\":\"barpolar\"}],\"carpet\":[{\"aaxis\":{\"endlinecolor\":\"#2a3f5f\",\"gridcolor\":\"white\",\"linecolor\":\"white\",\"minorgridcolor\":\"white\",\"startlinecolor\":\"#2a3f5f\"},\"baxis\":{\"endlinecolor\":\"#2a3f5f\",\"gridcolor\":\"white\",\"linecolor\":\"white\",\"minorgridcolor\":\"white\",\"startlinecolor\":\"#2a3f5f\"},\"type\":\"carpet\"}],\"choropleth\":[{\"colorbar\":{\"outlinewidth\":0,\"ticks\":\"\"},\"type\":\"choropleth\"}],\"contour\":[{\"colorbar\":{\"outlinewidth\":0,\"ticks\":\"\"},\"colorscale\":[[0.0,\"#0d0887\"],[0.1111111111111111,\"#46039f\"],[0.2222222222222222,\"#7201a8\"],[0.3333333333333333,\"#9c179e\"],[0.4444444444444444,\"#bd3786\"],[0.5555555555555556,\"#d8576b\"],[0.6666666666666666,\"#ed7953\"],[0.7777777777777778,\"#fb9f3a\"],[0.8888888888888888,\"#fdca26\"],[1.0,\"#f0f921\"]],\"type\":\"contour\"}],\"contourcarpet\":[{\"colorbar\":{\"outlinewidth\":0,\"ticks\":\"\"},\"type\":\"contourcarpet\"}],\"heatmap\":[{\"colorbar\":{\"outlinewidth\":0,\"ticks\":\"\"},\"colorscale\":[[0.0,\"#0d0887\"],[0.1111111111111111,\"#46039f\"],[0.2222222222222222,\"#7201a8\"],[0.3333333333333333,\"#9c179e\"],[0.4444444444444444,\"#bd3786\"],[0.5555555555555556,\"#d8576b\"],[0.6666666666666666,\"#ed7953\"],[0.7777777777777778,\"#fb9f3a\"],[0.8888888888888888,\"#fdca26\"],[1.0,\"#f0f921\"]],\"type\":\"heatmap\"}],\"heatmapgl\":[{\"colorbar\":{\"outlinewidth\":0,\"ticks\":\"\"},\"colorscale\":[[0.0,\"#0d0887\"],[0.1111111111111111,\"#46039f\"],[0.2222222222222222,\"#7201a8\"],[0.3333333333333333,\"#9c179e\"],[0.4444444444444444,\"#bd3786\"],[0.5555555555555556,\"#d8576b\"],[0.6666666666666666,\"#ed7953\"],[0.7777777777777778,\"#fb9f3a\"],[0.8888888888888888,\"#fdca26\"],[1.0,\"#f0f921\"]],\"type\":\"heatmapgl\"}],\"histogram\":[{\"marker\":{\"pattern\":{\"fillmode\":\"overlay\",\"size\":10,\"solidity\":0.2}},\"type\":\"histogram\"}],\"histogram2d\":[{\"colorbar\":{\"outlinewidth\":0,\"ticks\":\"\"},\"colorscale\":[[0.0,\"#0d0887\"],[0.1111111111111111,\"#46039f\"],[0.2222222222222222,\"#7201a8\"],[0.3333333333333333,\"#9c179e\"],[0.4444444444444444,\"#bd3786\"],[0.5555555555555556,\"#d8576b\"],[0.6666666666666666,\"#ed7953\"],[0.7777777777777778,\"#fb9f3a\"],[0.8888888888888888,\"#fdca26\"],[1.0,\"#f0f921\"]],\"type\":\"histogram2d\"}],\"histogram2dcontour\":[{\"colorbar\":{\"outlinewidth\":0,\"ticks\":\"\"},\"colorscale\":[[0.0,\"#0d0887\"],[0.1111111111111111,\"#46039f\"],[0.2222222222222222,\"#7201a8\"],[0.3333333333333333,\"#9c179e\"],[0.4444444444444444,\"#bd3786\"],[0.5555555555555556,\"#d8576b\"],[0.6666666666666666,\"#ed7953\"],[0.7777777777777778,\"#fb9f3a\"],[0.8888888888888888,\"#fdca26\"],[1.0,\"#f0f921\"]],\"type\":\"histogram2dcontour\"}],\"mesh3d\":[{\"colorbar\":{\"outlinewidth\":0,\"ticks\":\"\"},\"type\":\"mesh3d\"}],\"parcoords\":[{\"line\":{\"colorbar\":{\"outlinewidth\":0,\"ticks\":\"\"}},\"type\":\"parcoords\"}],\"pie\":[{\"automargin\":true,\"type\":\"pie\"}],\"scatter\":[{\"marker\":{\"colorbar\":{\"outlinewidth\":0,\"ticks\":\"\"}},\"type\":\"scatter\"}],\"scatter3d\":[{\"line\":{\"colorbar\":{\"outlinewidth\":0,\"ticks\":\"\"}},\"marker\":{\"colorbar\":{\"outlinewidth\":0,\"ticks\":\"\"}},\"type\":\"scatter3d\"}],\"scattercarpet\":[{\"marker\":{\"colorbar\":{\"outlinewidth\":0,\"ticks\":\"\"}},\"type\":\"scattercarpet\"}],\"scattergeo\":[{\"marker\":{\"colorbar\":{\"outlinewidth\":0,\"ticks\":\"\"}},\"type\":\"scattergeo\"}],\"scattergl\":[{\"marker\":{\"colorbar\":{\"outlinewidth\":0,\"ticks\":\"\"}},\"type\":\"scattergl\"}],\"scattermapbox\":[{\"marker\":{\"colorbar\":{\"outlinewidth\":0,\"ticks\":\"\"}},\"type\":\"scattermapbox\"}],\"scatterpolar\":[{\"marker\":{\"colorbar\":{\"outlinewidth\":0,\"ticks\":\"\"}},\"type\":\"scatterpolar\"}],\"scatterpolargl\":[{\"marker\":{\"colorbar\":{\"outlinewidth\":0,\"ticks\":\"\"}},\"type\":\"scatterpolargl\"}],\"scatterternary\":[{\"marker\":{\"colorbar\":{\"outlinewidth\":0,\"ticks\":\"\"}},\"type\":\"scatterternary\"}],\"surface\":[{\"colorbar\":{\"outlinewidth\":0,\"ticks\":\"\"},\"colorscale\":[[0.0,\"#0d0887\"],[0.1111111111111111,\"#46039f\"],[0.2222222222222222,\"#7201a8\"],[0.3333333333333333,\"#9c179e\"],[0.4444444444444444,\"#bd3786\"],[0.5555555555555556,\"#d8576b\"],[0.6666666666666666,\"#ed7953\"],[0.7777777777777778,\"#fb9f3a\"],[0.8888888888888888,\"#fdca26\"],[1.0,\"#f0f921\"]],\"type\":\"surface\"}],\"table\":[{\"cells\":{\"fill\":{\"color\":\"#EBF0F8\"},\"line\":{\"color\":\"white\"}},\"header\":{\"fill\":{\"color\":\"#C8D4E3\"},\"line\":{\"color\":\"white\"}},\"type\":\"table\"}]},\"layout\":{\"annotationdefaults\":{\"arrowcolor\":\"#2a3f5f\",\"arrowhead\":0,\"arrowwidth\":1},\"autotypenumbers\":\"strict\",\"coloraxis\":{\"colorbar\":{\"outlinewidth\":0,\"ticks\":\"\"}},\"colorscale\":{\"diverging\":[[0,\"#8e0152\"],[0.1,\"#c51b7d\"],[0.2,\"#de77ae\"],[0.3,\"#f1b6da\"],[0.4,\"#fde0ef\"],[0.5,\"#f7f7f7\"],[0.6,\"#e6f5d0\"],[0.7,\"#b8e186\"],[0.8,\"#7fbc41\"],[0.9,\"#4d9221\"],[1,\"#276419\"]],\"sequential\":[[0.0,\"#0d0887\"],[0.1111111111111111,\"#46039f\"],[0.2222222222222222,\"#7201a8\"],[0.3333333333333333,\"#9c179e\"],[0.4444444444444444,\"#bd3786\"],[0.5555555555555556,\"#d8576b\"],[0.6666666666666666,\"#ed7953\"],[0.7777777777777778,\"#fb9f3a\"],[0.8888888888888888,\"#fdca26\"],[1.0,\"#f0f921\"]],\"sequentialminus\":[[0.0,\"#0d0887\"],[0.1111111111111111,\"#46039f\"],[0.2222222222222222,\"#7201a8\"],[0.3333333333333333,\"#9c179e\"],[0.4444444444444444,\"#bd3786\"],[0.5555555555555556,\"#d8576b\"],[0.6666666666666666,\"#ed7953\"],[0.7777777777777778,\"#fb9f3a\"],[0.8888888888888888,\"#fdca26\"],[1.0,\"#f0f921\"]]},\"colorway\":[\"#636efa\",\"#EF553B\",\"#00cc96\",\"#ab63fa\",\"#FFA15A\",\"#19d3f3\",\"#FF6692\",\"#B6E880\",\"#FF97FF\",\"#FECB52\"],\"font\":{\"color\":\"#2a3f5f\"},\"geo\":{\"bgcolor\":\"white\",\"lakecolor\":\"white\",\"landcolor\":\"#E5ECF6\",\"showlakes\":true,\"showland\":true,\"subunitcolor\":\"white\"},\"hoverlabel\":{\"align\":\"left\"},\"hovermode\":\"closest\",\"mapbox\":{\"style\":\"light\"},\"paper_bgcolor\":\"white\",\"plot_bgcolor\":\"#E5ECF6\",\"polar\":{\"angularaxis\":{\"gridcolor\":\"white\",\"linecolor\":\"white\",\"ticks\":\"\"},\"bgcolor\":\"#E5ECF6\",\"radialaxis\":{\"gridcolor\":\"white\",\"linecolor\":\"white\",\"ticks\":\"\"}},\"scene\":{\"xaxis\":{\"backgroundcolor\":\"#E5ECF6\",\"gridcolor\":\"white\",\"gridwidth\":2,\"linecolor\":\"white\",\"showbackground\":true,\"ticks\":\"\",\"zerolinecolor\":\"white\"},\"yaxis\":{\"backgroundcolor\":\"#E5ECF6\",\"gridcolor\":\"white\",\"gridwidth\":2,\"linecolor\":\"white\",\"showbackground\":true,\"ticks\":\"\",\"zerolinecolor\":\"white\"},\"zaxis\":{\"backgroundcolor\":\"#E5ECF6\",\"gridcolor\":\"white\",\"gridwidth\":2,\"linecolor\":\"white\",\"showbackground\":true,\"ticks\":\"\",\"zerolinecolor\":\"white\"}},\"shapedefaults\":{\"line\":{\"color\":\"#2a3f5f\"}},\"ternary\":{\"aaxis\":{\"gridcolor\":\"white\",\"linecolor\":\"white\",\"ticks\":\"\"},\"baxis\":{\"gridcolor\":\"white\",\"linecolor\":\"white\",\"ticks\":\"\"},\"bgcolor\":\"#E5ECF6\",\"caxis\":{\"gridcolor\":\"white\",\"linecolor\":\"white\",\"ticks\":\"\"}},\"title\":{\"x\":0.05},\"xaxis\":{\"automargin\":true,\"gridcolor\":\"white\",\"linecolor\":\"white\",\"ticks\":\"\",\"title\":{\"standoff\":15},\"zerolinecolor\":\"white\",\"zerolinewidth\":2},\"yaxis\":{\"automargin\":true,\"gridcolor\":\"white\",\"linecolor\":\"white\",\"ticks\":\"\",\"title\":{\"standoff\":15},\"zerolinecolor\":\"white\",\"zerolinewidth\":2}}},\"scene\":{\"domain\":{\"x\":[0.0,1.0],\"y\":[0.0,1.0]},\"xaxis\":{\"title\":{\"text\":\"Na\"}},\"yaxis\":{\"title\":{\"text\":\"Mg\"}},\"zaxis\":{\"title\":{\"text\":\"Type\"}}},\"coloraxis\":{\"colorbar\":{\"title\":{\"text\":\"Type\"}},\"colorscale\":[[0.0,\"#0d0887\"],[0.1111111111111111,\"#46039f\"],[0.2222222222222222,\"#7201a8\"],[0.3333333333333333,\"#9c179e\"],[0.4444444444444444,\"#bd3786\"],[0.5555555555555556,\"#d8576b\"],[0.6666666666666666,\"#ed7953\"],[0.7777777777777778,\"#fb9f3a\"],[0.8888888888888888,\"#fdca26\"],[1.0,\"#f0f921\"]]},\"legend\":{\"tracegroupgap\":0},\"margin\":{\"t\":60}},                        {\"responsive\": true}                    ).then(function(){\n",
              "                            \n",
              "var gd = document.getElementById('91953f36-c74f-4020-9d79-5200efbd4b34');\n",
              "var x = new MutationObserver(function (mutations, observer) {{\n",
              "        var display = window.getComputedStyle(gd).display;\n",
              "        if (!display || display === 'none') {{\n",
              "            console.log([gd, 'removed!']);\n",
              "            Plotly.purge(gd);\n",
              "            observer.disconnect();\n",
              "        }}\n",
              "}});\n",
              "\n",
              "// Listen for the removal of the full notebook cells\n",
              "var notebookContainer = gd.closest('#notebook-container');\n",
              "if (notebookContainer) {{\n",
              "    x.observe(notebookContainer, {childList: true});\n",
              "}}\n",
              "\n",
              "// Listen for the clearing of the current output cell\n",
              "var outputEl = gd.closest('.output');\n",
              "if (outputEl) {{\n",
              "    x.observe(outputEl, {childList: true});\n",
              "}}\n",
              "\n",
              "                        })                };                            </script>        </div>\n",
              "</body>\n",
              "</html>"
            ]
          },
          "metadata": {}
        }
      ]
    },
    {
      "cell_type": "code",
      "source": [
        ""
      ],
      "metadata": {
        "id": "Lauayn7EaJXI"
      },
      "execution_count": null,
      "outputs": []
    }
  ]
}